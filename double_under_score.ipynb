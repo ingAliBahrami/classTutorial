{
  "nbformat": 4,
  "nbformat_minor": 0,
  "metadata": {
    "colab": {
      "provenance": [],
      "authorship_tag": "ABX9TyN0wwoUfxr0ag4wiLr9uc52",
      "include_colab_link": true
    },
    "kernelspec": {
      "name": "python3",
      "display_name": "Python 3"
    },
    "language_info": {
      "name": "python"
    }
  },
  "cells": [
    {
      "cell_type": "markdown",
      "metadata": {
        "id": "view-in-github",
        "colab_type": "text"
      },
      "source": [
        "<a href=\"https://colab.research.google.com/github/ingAliBahrami/classTutorial/blob/main/double_under_score.ipynb\" target=\"_parent\"><img src=\"https://colab.research.google.com/assets/colab-badge.svg\" alt=\"Open In Colab\"/></a>"
      ]
    },
    {
      "cell_type": "code",
      "execution_count": 42,
      "metadata": {
        "colab": {
          "base_uri": "https://localhost:8080/"
        },
        "id": "-JGL3uBdcvMJ",
        "outputId": "50984364-9a26-4294-8600-6340d4b89fee"
      },
      "outputs": [
        {
          "metadata": {
            "tags": null
          },
          "name": "stdout",
          "output_type": "stream",
          "text": [
            "<__main__.A object at 0x7ff8adffdff0>\n"
          ]
        }
      ],
      "source": [
        "# dunder : double under score\n",
        "#  __init__\n",
        "#  __str__\n",
        "# __repr__\n",
        "# __len__\n",
        "# __getitem__\n",
        "# __setitem__\n",
        "# __call__\n",
        "      # onerloading\n",
        "# __add__\n",
        "# __gt__     compare ob1 > ob2\n",
        "# __lt__     compare ob1 < ob2\n",
        "# __eq__     compare ob1 = ob2\n",
        "#  data descriptor\n",
        "\n",
        "\n",
        "class A:\n",
        "  def __init__(self):\n",
        "    self.lst = [45, 89, 12]\n",
        "\n",
        "ob = A()\n",
        "print(ob)    #  <__main__.A object at 0x7f39a556a920>"
      ]
    },
    {
      "cell_type": "code",
      "source": [],
      "metadata": {
        "id": "1KWOCxhLf1OD"
      },
      "execution_count": null,
      "outputs": []
    },
    {
      "cell_type": "code",
      "source": [
        "# now using __str__  or __repr__\n",
        "\n",
        "class A:\n",
        "  def __init__(self):\n",
        "    self.lst = [45, 89, 12]\n",
        "\n",
        "  def __str__(self):\n",
        "    return str(self.lst)\n",
        "\n",
        "  def __len__(self):\n",
        "    return len(self.lst)\n",
        "\n",
        "  def __getitem__(self, i):\n",
        "    return self.lst[i]\n",
        "\n",
        "  def __setitem__(self, i, v):\n",
        "    self.lst[i] = v\n",
        "\n",
        "\n",
        "ob = A()\n",
        "print(ob)   # [45, 89, 12]\n",
        "# print(len(ob))   # object of type 'A' has no len()\n",
        "# using __len__ for solving this problem\n",
        "print(len(ob))\n",
        "# print(ob[1])  # 'A' object is not subscriptable\n",
        "print(ob[1])\n",
        "# ob[1] = 13  # 'A' object does not support item assignment\n",
        "ob[1] = 13\n",
        "print(ob[1])"
      ],
      "metadata": {
        "colab": {
          "base_uri": "https://localhost:8080/"
        },
        "id": "bOfZ17Tffb-7",
        "outputId": "d848e5d4-84b8-4865-9f90-4bb9bd93b0bc"
      },
      "execution_count": 43,
      "outputs": [
        {
          "output_type": "stream",
          "name": "stdout",
          "text": [
            "[45, 89, 12]\n",
            "3\n",
            "89\n",
            "13\n"
          ]
        }
      ]
    },
    {
      "cell_type": "code",
      "source": [
        "class Clock:\n",
        "  def __init__(self, h, m, s):\n",
        "    self.h = h\n",
        "    self.m = m\n",
        "    self.s = s\n",
        "\n",
        "  def __str__(self):\n",
        "    return \"{0:02d}: {1:02d}: {2:02d}\" .format(self.h, self.m, self.s)\n",
        "ob = Clock(4, 26, 30)\n",
        "# print(ob)    # <__main__.Clock object at 0x7f3973722500>\n",
        "print(ob)\n"
      ],
      "metadata": {
        "colab": {
          "base_uri": "https://localhost:8080/"
        },
        "id": "KUcvL3eBghGJ",
        "outputId": "cca68c1c-1dcd-4a6f-e101-8818fc74c777"
      },
      "execution_count": 1,
      "outputs": [
        {
          "output_type": "stream",
          "name": "stdout",
          "text": [
            "04: 26: 30\n"
          ]
        }
      ]
    },
    {
      "cell_type": "code",
      "source": [
        "class Address:\n",
        "  def __init__(self, c, s, z):\n",
        "    self.city = c\n",
        "    self.street = s\n",
        "    self.zipcode = z\n",
        "\n",
        "  def __str__(self):\n",
        "    lst = []\n",
        "    lst.append(f'{self.city} - {self.street} - {self.zipcode}')\n",
        "    return ' '.join(lst)\n",
        "a = Address('Genoa', 'corso aldo gastaldi', '16131')\n",
        "# print(a)  # <__main__.Address object at 0x7ff8d7dee530>\n",
        "print(a)\n"
      ],
      "metadata": {
        "colab": {
          "base_uri": "https://localhost:8080/"
        },
        "id": "8i_pLwrjOoNy",
        "outputId": "958c3a2a-9aa9-4145-e65c-0f9c95dd6b12"
      },
      "execution_count": 24,
      "outputs": [
        {
          "output_type": "stream",
          "name": "stdout",
          "text": [
            "Genoa - corso aldo gastaldi - 16131\n"
          ]
        }
      ]
    },
    {
      "cell_type": "code",
      "source": [
        "class Robot:\n",
        "  def __init__(self, nm, yr):\n",
        "    self.name = nm\n",
        "    self.build_year = yr\n",
        "\n",
        "  def __str__(self):\n",
        "    return 'name:' + ' ' + self.name + ' ' + ', build year:' + str(self.build_year)\n",
        "\n",
        "\n",
        "  def __repr__(self):\n",
        "    return  'Robot(\\\"\" + self.name + \" \\ \", ' + str(self.build_year)+ \")\"\n",
        "\n",
        "\n",
        "ob = Robot('luca', 2023)\n",
        "# print(ob)   # <__main__.Robot object at 0x7ff8ae15b790>\n",
        "print(ob)\n",
        "# another method   __repr__\n",
        "print(repr(ob))\n"
      ],
      "metadata": {
        "colab": {
          "base_uri": "https://localhost:8080/"
        },
        "id": "fM-eR-uEWCI3",
        "outputId": "183d4976-2dbe-4c19-ed51-fea87522829b"
      },
      "execution_count": 44,
      "outputs": [
        {
          "output_type": "stream",
          "name": "stdout",
          "text": [
            "name: luca , build year:2023\n",
            "Robot(\"\" + self.name + \" \\ \", 2023)\n"
          ]
        }
      ]
    },
    {
      "cell_type": "code",
      "source": [
        "# __call__\n",
        "\n",
        "class C:\n",
        "\n",
        "  def __init__(self, size, x, y):\n",
        "    self.size = size\n",
        "    self.x = x\n",
        "    self.y = y\n",
        "\n",
        "  def __call__(self, x, y):\n",
        "    self.x = x\n",
        "    self.y = y\n",
        "\n",
        "\n",
        "\n",
        "ob= C(300, 10, 20)\n",
        "\n",
        "print(ob.x)\n",
        "print(ob.y)\n",
        "\n",
        "ob(30, 50)  # 'C' object is not callable\n",
        "print(ob.x)\n",
        "print(ob.y)\n",
        "print(ob.size)  # for sure when Robo is moving, size & weight won't change\n",
        "\n",
        "\n",
        "\n"
      ],
      "metadata": {
        "colab": {
          "base_uri": "https://localhost:8080/"
        },
        "id": "j2xPtGzXgBFm",
        "outputId": "ae030f5b-969d-4f1b-8bb6-8d01c0c82e96"
      },
      "execution_count": 57,
      "outputs": [
        {
          "output_type": "stream",
          "name": "stdout",
          "text": [
            "10\n",
            "20\n",
            "30\n",
            "50\n",
            "300\n"
          ]
        }
      ]
    },
    {
      "cell_type": "code",
      "source": [
        "# overload binary + operator\n",
        "# __add_\n",
        "\n",
        "class Complex:     # 2 + 3i\n",
        "  def __init__(self, a ,b):\n",
        "    self.a = a\n",
        "    self.b = b\n",
        "\n",
        "  def __add__(self, others):\n",
        "    x = self.a + others.a\n",
        "    y = self.b + others.b\n",
        "    return x,y\n",
        "\n",
        "ob1 = Complex(1, 3)   # 1 + 3i\n",
        "ob2 = Complex(2, 4)   # 2 + 4i\n",
        "ob3 = ob1 + ob2\n",
        "print(ob3)     # unsupported operand type(s) for +: 'Complex' and 'Complex'\n",
        "\n",
        "\n"
      ],
      "metadata": {
        "colab": {
          "base_uri": "https://localhost:8080/"
        },
        "id": "oUvDBoqC98q0",
        "outputId": "310ba4c8-64f9-48bf-d297-82a022529690"
      },
      "execution_count": 61,
      "outputs": [
        {
          "output_type": "stream",
          "name": "stdout",
          "text": [
            "(3, 7)\n"
          ]
        }
      ]
    },
    {
      "cell_type": "code",
      "source": [
        "class Test:\n",
        "  def __init__(self, a):\n",
        "    self.a = a\n",
        "\n",
        "  def __add__(self, o):   # o = others\n",
        "    return self.a + o.a\n",
        "\n",
        "ob1 = Test(1)\n",
        "ob2 = Test(4)\n",
        "print(ob1 + ob2)\n",
        "\n",
        "ob1 = Test('fran')\n",
        "ob2 = Test('cesco')\n",
        "print(ob1 + ob2 )"
      ],
      "metadata": {
        "colab": {
          "base_uri": "https://localhost:8080/"
        },
        "id": "eIu-B-ujCWvp",
        "outputId": "417fb9e2-d922-4ee1-c7ad-99f337bf5862"
      },
      "execution_count": 66,
      "outputs": [
        {
          "output_type": "stream",
          "name": "stdout",
          "text": [
            "5\n",
            "francesco\n"
          ]
        }
      ]
    },
    {
      "cell_type": "code",
      "source": [
        "# __gt__     compare ob1 > ob2\n",
        "# __lt__     compare ob1 < ob2\n",
        "# __eq__     compare ob1 = ob2\n",
        "\n",
        "class AB:\n",
        "  def __init__(self, a):\n",
        "    self.a = a\n",
        "\n",
        "  def __gt__(self, o):\n",
        "    if (self.a > o.a):\n",
        "      return True\n",
        "    else:\n",
        "      return False\n",
        "\n",
        "ob1 = AB(2)\n",
        "ob2 = AB(5)\n",
        "if (ob1 > ob2):\n",
        "  print('yes')\n",
        "else:\n",
        "  print('no')   # with no using __gt__ we will have  an error\n",
        "\n",
        "\n",
        "\n",
        "  class ABC:\n",
        "    def __init__(self, a):\n",
        "      self.a = a\n",
        "\n",
        "    def __lt__(self, o):\n",
        "      if (self.a < o.a):\n",
        "        return True\n",
        "      else:\n",
        "        return False\n",
        "\n",
        "ob1 = ABC(2)\n",
        "ob2 = ABC(5)\n",
        "if (ob1 < ob2):\n",
        "  print('yes')\n",
        "else:\n",
        "  print('no')   # with no using __lt__ we will have  an error\n",
        "\n",
        "\n",
        "\n",
        "\n",
        "  class ABCD:\n",
        "    def __init__(self, a):\n",
        "      self.a = a\n",
        "\n",
        "    def __eq__(self, o):\n",
        "      if (self.a == o.a):\n",
        "        return 'equal'\n",
        "      else:\n",
        "        return 'not equal'\n",
        "\n",
        "ob1 = ABCD(2)\n",
        "ob2 = ABCD(5)\n",
        "if (ob1 == ob2):\n",
        "  print('equal')\n",
        "else:\n",
        "  print('not equal')   # with no using __eq__ we will have  an error\n",
        "\n"
      ],
      "metadata": {
        "colab": {
          "base_uri": "https://localhost:8080/"
        },
        "id": "j5L755AkFUpH",
        "outputId": "4aa46116-a197-4b2d-f925-31473288034e"
      },
      "execution_count": 79,
      "outputs": [
        {
          "output_type": "stream",
          "name": "stdout",
          "text": [
            "no\n",
            "yes\n",
            "equal\n"
          ]
        }
      ]
    },
    {
      "cell_type": "code",
      "source": [
        "# data descriptor\n",
        "\n",
        "class A:\n",
        "  def __init__(self, a = None):\n",
        "    print('init')\n",
        "    self.__set__(self, a)\n",
        "\n",
        "  def  __set__(self, i ,v):\n",
        "    print('set')\n",
        "    self.v = v\n",
        "    print(self.v)\n",
        "    print(i)\n",
        "\n",
        "  def __get__(self, i , o):\n",
        "    print('get')\n",
        "    return self.v\n",
        "\n",
        "class B:\n",
        "  X= A(5)\n",
        "\n",
        "ob = B()\n",
        "ob.x = 8\n",
        "print(ob.x)\n"
      ],
      "metadata": {
        "id": "tqfMNAqYaXX3",
        "outputId": "2f8cfe81-e4c5-434a-8f6a-cbde3d62b446",
        "colab": {
          "base_uri": "https://localhost:8080/"
        }
      },
      "execution_count": 19,
      "outputs": [
        {
          "output_type": "stream",
          "name": "stdout",
          "text": [
            "init\n",
            "set\n",
            "5\n",
            "<__main__.A object at 0x7f3265ef7790>\n",
            "8\n"
          ]
        }
      ]
    }
  ]
}